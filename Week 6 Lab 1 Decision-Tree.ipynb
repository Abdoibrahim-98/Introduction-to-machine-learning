{
 "cells": [
  {
   "cell_type": "code",
   "execution_count": 3,
   "id": "5f9b79f7",
   "metadata": {},
   "outputs": [],
   "source": [
    "import pandas as pd\n",
    "import matplotlib.pyplot as plt\n",
    "import numpy as np\n",
    "# %%\n",
    "data = pd.read_csv(\"data (3).csv\")\n",
    "\n",
    "data.drop([\"id\",\"Unnamed: 32\"],axis=1,inplace=True)\n",
    "# malignant = M  kotu huylu tumor\n",
    "# benign = B     iyi huylu tumor"
   ]
  },
  {
   "cell_type": "code",
   "execution_count": 17,
   "id": "7b5690df",
   "metadata": {},
   "outputs": [
    {
     "data": {
      "image/png": "[encoded data removed]",
      "text/plain": [
       "<Figure size 432x288 with 1 Axes>"
      ]
     },
     "metadata": {
      "needs_background": "light"
     },
     "output_type": "display_data"
    }
   ],
   "source": [
    "M = data[data.diagnosis == \"M\"]\n",
    "B = data[data.diagnosis == \"B\"]\n",
    "# scatter plot\n",
    "plt.scatter(M.radius_mean,M.texture_mean,color=\"red\",label=\"kotu\",alpha= 0.3)\n",
    "plt.scatter(B.radius_mean,B.texture_mean,color=\"green\",label=\"iyi\",alpha= 0.3)\n",
    "plt.xlabel(\"radius_mean\")\n",
    "plt.ylabel(\"texture_mean\")\n",
    "plt.legend()\n",
    "plt.show()"
   ]
  },
  {
   "cell_type": "code",
   "execution_count": 19,
   "id": "af7a39ea",
   "metadata": {},
   "outputs": [],
   "source": [
    "data.diagnosis = [1 if each == \"M\" else 0 for each in data.diagnosis]\n",
    "y = data.diagnosis.values\n",
    "x_data = data.drop([\"diagnosis\"],axis=1)"
   ]
  },
  {
   "cell_type": "code",
   "execution_count": 22,
   "id": "4824a897",
   "metadata": {},
   "outputs": [],
   "source": [
    "# normalization \n",
    "x = (x_data - np.min(x_data))/(np.max(x_data)-np.min(x_data))"
   ]
  },
  {
   "cell_type": "code",
   "execution_count": 25,
   "id": "29307c6f",
   "metadata": {},
   "outputs": [],
   "source": [
    "# train test split\n",
    "from sklearn.model_selection import train_test_split\n",
    "x_train, x_test,y_train, y_test = train_test_split(x,y,test_size = 0.15,random_state = 42)"
   ]
  },
  {
   "cell_type": "code",
   "execution_count": 27,
   "id": "f56bc83a",
   "metadata": {},
   "outputs": [
    {
     "data": {
      "text/plain": [
       "DecisionTreeClassifier()"
      ]
     },
     "execution_count": 27,
     "metadata": {},
     "output_type": "execute_result"
    }
   ],
   "source": [
    "# %% SVM\n",
    "from sklearn.tree import DecisionTreeClassifier\n",
    "dt = DecisionTreeClassifier()\n",
    "dt.fit(x_train,y_train)"
   ]
  },
  {
   "cell_type": "code",
   "execution_count": 28,
   "id": "29e4603e",
   "metadata": {},
   "outputs": [
    {
     "name": "stdout",
     "output_type": "stream",
     "text": [
      "score:  1.0\n"
     ]
    }
   ],
   "source": [
    "# %% test\n",
    "print(\"score: \", dt.score(x_test,y_test))"
   ]
  },
  {
   "cell_type": "code",
   "execution_count": 30,
   "id": "381cdc81",
   "metadata": {},
   "outputs": [
    {
     "data": {
      "text/plain": [
       "array([0, 0, 0, 0, 0, 0, 0, 0, 0, 0, 0, 0, 0, 0, 0, 0, 0, 0, 0, 0, 0, 0,\n",
       "       0, 0, 0, 0, 0, 0, 0, 0, 0, 0, 0, 0, 0, 0, 0, 0, 0, 0, 0, 0, 0, 0,\n",
       "       0, 0, 0, 0, 0, 0, 0, 0, 0, 0, 0, 0, 0, 0, 0, 0, 0, 0, 0, 0, 0, 0,\n",
       "       0, 0, 0, 0, 0, 0, 0, 0, 0, 0, 0, 0, 0, 0, 0, 0, 0, 0, 0, 0],\n",
       "      dtype=int64)"
      ]
     },
     "execution_count": 30,
     "metadata": {},
     "output_type": "execute_result"
    }
   ],
   "source": [
    "y_pred = dt.predict(x_test)  \n",
    "y_pred"
   ]
  },
  {
   "cell_type": "code",
   "execution_count": 33,
   "id": "328ff6c5",
   "metadata": {},
   "outputs": [
    {
     "data": {
      "text/plain": [
       "array([[86]], dtype=int64)"
      ]
     },
     "execution_count": 33,
     "metadata": {},
     "output_type": "execute_result"
    }
   ],
   "source": [
    "# Making the Confusion Matrix\n",
    "from sklearn.metrics import confusion_matrix\n",
    "confusion_matrix(y_test, y_pred)"
   ]
  }
 ],
 "metadata": {
  "kernelspec": {
   "display_name": "Python 3 (ipykernel)",
   "language": "python",
   "name": "python3"
  },
  "language_info": {
   "codemirror_mode": {
    "name": "ipython",
    "version": 3
   },
   "file_extension": ".py",
   "mimetype": "text/x-python",
   "name": "python",
   "nbconvert_exporter": "python",
   "pygments_lexer": "ipython3",
   "version": "3.9.12"
  }
 },
 "nbformat": 4,
 "nbformat_minor": 5
}
