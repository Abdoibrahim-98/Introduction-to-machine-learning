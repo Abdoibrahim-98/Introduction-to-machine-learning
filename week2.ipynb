{
 "cells": [
  {
   "cell_type": "code",
   "execution_count": 1,
   "id": "6633a2e6",
   "metadata": {},
   "outputs": [],
   "source": [
    "import numpy as np"
   ]
  },
  {
   "cell_type": "code",
   "execution_count": 2,
   "id": "7d263bc1",
   "metadata": {},
   "outputs": [
    {
     "name": "stdout",
     "output_type": "stream",
     "text": [
      "[1.2 2.4 3.5 4.6 6.1 7.2 8.3 9.5]\n"
     ]
    }
   ],
   "source": [
    "one_dimensional_array = np.array([1.2,2.4,3.5,4.6,6.1,7.2,8.3,9.5])\n",
    "print(one_dimensional_array)"
   ]
  },
  {
   "cell_type": "code",
   "execution_count": 3,
   "id": "e4a358c8",
   "metadata": {},
   "outputs": [
    {
     "name": "stdout",
     "output_type": "stream",
     "text": [
      "[[ 6  5]\n",
      " [11  7]\n",
      " [ 4  8]]\n"
     ]
    }
   ],
   "source": [
    "two_dimensional_array = np.array([[6, 5], [11, 7], [4, 8]])\n",
    "print(two_dimensional_array)"
   ]
  },
  {
   "cell_type": "code",
   "execution_count": 4,
   "id": "2b15fa95",
   "metadata": {},
   "outputs": [
    {
     "name": "stdout",
     "output_type": "stream",
     "text": [
      "[ 5  6  7  8  9 10 11]\n"
     ]
    }
   ],
   "source": [
    "sequence_of_integers = np.arange(5, 12)\n",
    "print(sequence_of_integers)"
   ]
  },
  {
   "cell_type": "code",
   "execution_count": 5,
   "id": "dc0bd84f",
   "metadata": {},
   "outputs": [
    {
     "name": "stdout",
     "output_type": "stream",
     "text": [
      "[61 82 68 58 96 67]\n"
     ]
    }
   ],
   "source": [
    "random_integers_between_50_and_100 = np.random.randint(low=50, high=101, size=(6))\n",
    "print(random_integers_between_50_and_100)"
   ]
  },
  {
   "cell_type": "code",
   "execution_count": 6,
   "id": "6a99db34",
   "metadata": {},
   "outputs": [
    {
     "name": "stdout",
     "output_type": "stream",
     "text": [
      "[0.60825548 0.56757691 0.38182935 0.9989003  0.61379913 0.22328113]\n"
     ]
    }
   ],
   "source": [
    "random_floats_between_0_and_1 = np.random.random([6])\n",
    "print(random_floats_between_0_and_1) "
   ]
  },
  {
   "cell_type": "code",
   "execution_count": 7,
   "id": "bc589d82",
   "metadata": {},
   "outputs": [
    {
     "name": "stdout",
     "output_type": "stream",
     "text": [
      "[2.60825548 2.56757691 2.38182935 2.9989003  2.61379913 2.22328113]\n"
     ]
    }
   ],
   "source": [
    "random_floats_between_2_and_3 = random_floats_between_0_and_1 + 2.0\n",
    "print(random_floats_between_2_and_3)"
   ]
  },
  {
   "cell_type": "code",
   "execution_count": 8,
   "id": "223b633b",
   "metadata": {},
   "outputs": [
    {
     "name": "stdout",
     "output_type": "stream",
     "text": [
      "[183 246 204 174 288 201]\n"
     ]
    }
   ],
   "source": [
    "random_integers_between_150_and_300 = random_integers_between_50_and_100 * 3\n",
    "print(random_integers_between_150_and_300)"
   ]
  },
  {
   "cell_type": "code",
   "execution_count": 14,
   "id": "39ec3741",
   "metadata": {},
   "outputs": [
    {
     "name": "stdout",
     "output_type": "stream",
     "text": [
      "[14 17  6 18 14  6 13 18 14  8 20 12 18  8 10]\n"
     ]
    }
   ],
   "source": [
    "feature = np.random.randint(low= 6, high=21, size=(15))\n",
    "print(feature)"
   ]
  },
  {
   "cell_type": "code",
   "execution_count": 24,
   "id": "4fe1652f",
   "metadata": {},
   "outputs": [
    {
     "name": "stdout",
     "output_type": "stream",
     "text": [
      "[46 55 22 58 46 22 43 58 46 28 64 40 58 28 34]\n"
     ]
    }
   ],
   "source": [
    "lable = feature*3+4\n",
    "print(lable)"
   ]
  },
  {
   "cell_type": "code",
   "execution_count": 25,
   "id": "c2ba58af",
   "metadata": {},
   "outputs": [
    {
     "name": "stdout",
     "output_type": "stream",
     "text": [
      "[46.23461573 56.14331449 22.77573188 58.6013051  46.60115134 22.87941793\n",
      " 44.72026471 58.78295973 47.3579742  29.40257118 65.15373723 40.35854213\n",
      " 58.65185489 28.20898122 35.35254223]\n",
      "[46 55 22 58 46 22 43 58 46 28 64 40 58 28 34]\n"
     ]
    }
   ],
   "source": [
    "noise = lable + np.random.random([15])*2\n",
    "print(noise)\n",
    "print(lable)"
   ]
  },
  {
   "cell_type": "code",
   "execution_count": 29,
   "id": "09d638b5",
   "metadata": {},
   "outputs": [
    {
     "name": "stdout",
     "output_type": "stream",
     "text": [
      "[3.69811464 0.33620824 2.08319608 0.96834413 1.44298181 3.95547711\n",
      " 1.46655157 0.64864189 2.62337618 1.8977362  1.73271063 0.63756163\n",
      " 3.77567623 2.94326249 1.07405289]\n",
      "[51.04885275 56.29541861 26.05524451 59.80123912 47.97578072 26.79797704\n",
      " 42.67563013 57.11756888 49.24898937 28.60656115 65.83467661 38.72957918\n",
      " 60.95459182 32.00864755 33.98824595]\n"
     ]
    }
   ],
   "source": [
    "noise = (np.random.random([15]) * 4)-2\n",
    "print(noise)\n",
    "lable = lable + noise \n",
    "print(lable)"
   ]
  },
  {
   "cell_type": "code",
   "execution_count": 31,
   "id": "59801950",
   "metadata": {},
   "outputs": [],
   "source": [
    "import pandas as pd"
   ]
  },
  {
   "cell_type": "code",
   "execution_count": 32,
   "id": "16c21765",
   "metadata": {},
   "outputs": [],
   "source": [
    "my_data = np.array([[0, 3], [10, 7], [20, 9], [30, 14], [40, 15]])"
   ]
  },
  {
   "cell_type": "code",
   "execution_count": 33,
   "id": "69a77462",
   "metadata": {},
   "outputs": [],
   "source": [
    "my_column_names = ['temperature', 'activity']"
   ]
  },
  {
   "cell_type": "code",
   "execution_count": 34,
   "id": "3135d866",
   "metadata": {},
   "outputs": [
    {
     "name": "stdout",
     "output_type": "stream",
     "text": [
      "   temperature  activity\n",
      "0            0         3\n",
      "1           10         7\n",
      "2           20         9\n",
      "3           30        14\n",
      "4           40        15\n"
     ]
    }
   ],
   "source": [
    "my_dataframe = pd.DataFrame(data=my_data, columns=my_column_names)\n",
    "print(my_dataframe)"
   ]
  },
  {
   "cell_type": "code",
   "execution_count": 35,
   "id": "7e677004",
   "metadata": {},
   "outputs": [],
   "source": [
    "my_dataframe[\"adjusted\"] = my_dataframe[\"activity\"] + 2"
   ]
  },
  {
   "cell_type": "code",
   "execution_count": 36,
   "id": "37173f76",
   "metadata": {},
   "outputs": [
    {
     "name": "stdout",
     "output_type": "stream",
     "text": [
      "   temperature  activity  adjusted\n",
      "0            0         3         5\n",
      "1           10         7         9\n",
      "2           20         9        11\n",
      "3           30        14        16\n",
      "4           40        15        17\n"
     ]
    }
   ],
   "source": [
    "print(my_dataframe)"
   ]
  },
  {
   "cell_type": "code",
   "execution_count": 37,
   "id": "36b862b2",
   "metadata": {},
   "outputs": [
    {
     "name": "stdout",
     "output_type": "stream",
     "text": [
      "Rows #0, #1, and #2:\n",
      "   temperature  activity  adjusted\n",
      "0            0         3         5\n",
      "1           10         7         9\n",
      "2           20         9        11 \n",
      "\n"
     ]
    }
   ],
   "source": [
    "print(\"Rows #0, #1, and #2:\")\n",
    "print(my_dataframe.head(3), '\\n')"
   ]
  },
  {
   "cell_type": "code",
   "execution_count": 38,
   "id": "f8da2514",
   "metadata": {},
   "outputs": [
    {
     "name": "stdout",
     "output_type": "stream",
     "text": [
      "Row #2:\n",
      "   temperature  activity  adjusted\n",
      "2           20         9        11 \n",
      "\n"
     ]
    }
   ],
   "source": [
    "print(\"Row #2:\")\n",
    "print(my_dataframe.iloc[[2]], '\\n')"
   ]
  },
  {
   "cell_type": "code",
   "execution_count": 39,
   "id": "bb936b94",
   "metadata": {},
   "outputs": [
    {
     "name": "stdout",
     "output_type": "stream",
     "text": [
      "Rows #1, #2, and #3:\n",
      "   temperature  activity  adjusted\n",
      "1           10         7         9\n",
      "2           20         9        11\n",
      "3           30        14        16 \n",
      "\n"
     ]
    }
   ],
   "source": [
    "print(\"Rows #1, #2, and #3:\")\n",
    "print(my_dataframe[1:4], '\\n')"
   ]
  },
  {
   "cell_type": "code",
   "execution_count": 40,
   "id": "a469f01e",
   "metadata": {},
   "outputs": [
    {
     "name": "stdout",
     "output_type": "stream",
     "text": [
      "Column 'temperature':\n",
      "0     0\n",
      "1    10\n",
      "2    20\n",
      "3    30\n",
      "4    40\n",
      "Name: temperature, dtype: int32\n"
     ]
    }
   ],
   "source": [
    "print(\"Column 'temperature':\")\n",
    "print(my_dataframe['temperature'])"
   ]
  },
  {
   "cell_type": "code",
   "execution_count": 57,
   "id": "f48cf71d",
   "metadata": {},
   "outputs": [
    {
     "name": "stdout",
     "output_type": "stream",
     "text": [
      "   Eleanor  Chidi  Tahani  Jason\n",
      "0       77     23      55     73\n",
      "1       41     42      71     39\n",
      "2       65      3       3     36\n",
      "\n",
      "\n",
      "41\n"
     ]
    }
   ],
   "source": [
    "my_data1=np.random.randint(low=0, high=101, size=(3,4))\n",
    "my_column_names1 = ['Eleanor', 'Chidi','Tahani','Jason']\n",
    "my_dataframe1 = pd.DataFrame(data=my_data1, columns=my_column_names1)\n",
    "print(my_dataframe1)\n",
    "print(\"\\n\")\n",
    "print(my_dataframe1['Eleanor'][1])\n"
   ]
  },
  {
   "cell_type": "code",
   "execution_count": 60,
   "id": "f2bdf04d",
   "metadata": {},
   "outputs": [
    {
     "name": "stdout",
     "output_type": "stream",
     "text": [
      "   Eleanor  Chidi  Tahani  Jason  Janet\n",
      "0       77     23      55     73    128\n",
      "1       41     42      71     39    110\n",
      "2       65      3       3     36     39\n"
     ]
    }
   ],
   "source": [
    "my_dataframe1[\"Janet\"]= my_dataframe1[\"Tahani\"] + my_dataframe1[\"Jason\"]\n",
    "print(my_dataframe1)"
   ]
  },
  {
   "cell_type": "code",
   "execution_count": 61,
   "id": "70417a74",
   "metadata": {},
   "outputs": [],
   "source": [
    "reference_to_df = my_dataframe1"
   ]
  },
  {
   "cell_type": "code",
   "execution_count": 62,
   "id": "313ad4ef",
   "metadata": {},
   "outputs": [
    {
     "name": "stdout",
     "output_type": "stream",
     "text": [
      "  Starting value of df: 39\n"
     ]
    }
   ],
   "source": [
    "print(\"  Starting value of df: %d\" % my_dataframe1['Jason'][1])"
   ]
  },
  {
   "cell_type": "code",
   "execution_count": 63,
   "id": "476e6ea4",
   "metadata": {},
   "outputs": [
    {
     "name": "stdout",
     "output_type": "stream",
     "text": [
      "  Starting value of reference_to_df: 39\n",
      "\n"
     ]
    }
   ],
   "source": [
    "print(\"  Starting value of reference_to_df: %d\\n\" % reference_to_df['Jason'][1])"
   ]
  },
  {
   "cell_type": "code",
   "execution_count": 65,
   "id": "dd584a98",
   "metadata": {},
   "outputs": [],
   "source": [
    "my_dataframe1.at[1, 'Jason'] = my_dataframe1['Jason'][1] + 5"
   ]
  },
  {
   "cell_type": "code",
   "execution_count": 66,
   "id": "feaeda38",
   "metadata": {},
   "outputs": [
    {
     "name": "stdout",
     "output_type": "stream",
     "text": [
      "  Updated df: 44\n",
      "  Updated reference_to_df: 44\n",
      "\n",
      "\n"
     ]
    }
   ],
   "source": [
    "print(\"  Updated df: %d\" % my_dataframe1['Jason'][1])\n",
    "print(\"  Updated reference_to_df: %d\\n\\n\" % reference_to_df['Jason'][1])"
   ]
  },
  {
   "cell_type": "code",
   "execution_count": 67,
   "id": "ba3d1c51",
   "metadata": {},
   "outputs": [
    {
     "name": "stdout",
     "output_type": "stream",
     "text": [
      "Experiment with a true copy:\n"
     ]
    }
   ],
   "source": [
    "print(\"Experiment with a true copy:\")\n",
    "copy_of_my_dataframe = my_dataframe.copy()"
   ]
  },
  {
   "cell_type": "code",
   "execution_count": 68,
   "id": "3394ee56",
   "metadata": {},
   "outputs": [
    {
     "name": "stdout",
     "output_type": "stream",
     "text": [
      "  Starting value of my_dataframe: 7\n",
      "  Starting value of copy_of_my_dataframe: 7\n",
      "\n"
     ]
    }
   ],
   "source": [
    "print(\"  Starting value of my_dataframe: %d\" % my_dataframe['activity'][1])\n",
    "print(\"  Starting value of copy_of_my_dataframe: %d\\n\" % copy_of_my_dataframe['activity'][1])\n"
   ]
  },
  {
   "cell_type": "code",
   "execution_count": 69,
   "id": "a1d194a3",
   "metadata": {},
   "outputs": [
    {
     "name": "stdout",
     "output_type": "stream",
     "text": [
      "  Updated my_dataframe: 10\n",
      "  copy_of_my_dataframe does not get updated: 7\n"
     ]
    }
   ],
   "source": [
    "my_dataframe.at[1, 'activity'] = my_dataframe['activity'][1] + 3\n",
    "print(\"  Updated my_dataframe: %d\" % my_dataframe['activity'][1])\n",
    "print(\"  copy_of_my_dataframe does not get updated: %d\" % copy_of_my_dataframe['activity'][1])"
   ]
  },
  {
   "cell_type": "code",
   "execution_count": null,
   "id": "0073a27d",
   "metadata": {},
   "outputs": [],
   "source": []
  }
 ],
 "metadata": {
  "kernelspec": {
   "display_name": "Python 3 (ipykernel)",
   "language": "python",
   "name": "python3"
  },
  "language_info": {
   "codemirror_mode": {
    "name": "ipython",
    "version": 3
   },
   "file_extension": ".py",
   "mimetype": "text/x-python",
   "name": "python",
   "nbconvert_exporter": "python",
   "pygments_lexer": "ipython3",
   "version": "3.9.12"
  }
 },
 "nbformat": 4,
 "nbformat_minor": 5
}
