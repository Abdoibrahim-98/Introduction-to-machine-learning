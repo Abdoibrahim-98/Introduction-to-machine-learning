{
 "cells": [
  {
   "cell_type": "markdown",
   "id": "34f61a9c",
   "metadata": {},
   "source": [
    "Linear Regression"
   ]
  },
  {
   "cell_type": "code",
   "execution_count": 30,
   "id": "1cf5daff",
   "metadata": {},
   "outputs": [],
   "source": [
    "import pandas as pd\n",
    "import numpy as np\n",
    "import matplotlib.pyplot as plt"
   ]
  },
  {
   "cell_type": "code",
   "execution_count": 15,
   "id": "deb85afc",
   "metadata": {},
   "outputs": [],
   "source": [
    "df = pd.read_csv(\"C:\\\\Users\\\\ABDO\\\\introduction to machine learning\\\\linear-regression-dataset.csv\",sep = \";\")"
   ]
  },
  {
   "cell_type": "code",
   "execution_count": 20,
   "id": "7050e8d7",
   "metadata": {},
   "outputs": [
    {
     "data": {
      "text/plain": [
       "(14, 2)"
      ]
     },
     "execution_count": 20,
     "metadata": {},
     "output_type": "execute_result"
    }
   ],
   "source": [
    "df.shape"
   ]
  },
  {
   "cell_type": "code",
   "execution_count": 3,
   "id": "fc69f6ba",
   "metadata": {},
   "outputs": [
    {
     "data": {
      "image/png": "[encoded data removed]",
      "text/plain": [
       "<Figure size 432x288 with 1 Axes>"
      ]
     },
     "metadata": {
      "needs_background": "light"
     },
     "output_type": "display_data"
    }
   ],
   "source": [
    "plt.scatter(df.experience,df.salary)\n",
    "plt.xlabel(\"experience\")\n",
    "plt.ylabel(\"salary\")\n",
    "plt.show()"
   ]
  },
  {
   "cell_type": "code",
   "execution_count": 10,
   "id": "6c6be2c2",
   "metadata": {
    "scrolled": true
   },
   "outputs": [
    {
     "data": {
      "text/plain": [
       "LinearRegression()"
      ]
     },
     "execution_count": 10,
     "metadata": {},
     "output_type": "execute_result"
    }
   ],
   "source": [
    "#%% linear regression\n",
    "# sklearn library\n",
    "from sklearn.linear_model import LinearRegression\n",
    "\n",
    "# linear regression model\n",
    "linear_reg = LinearRegression()\n",
    "\n",
    "x = df.experience.values.reshape(14,1)\n",
    "y = df.salary.values.reshape(14,1)\n",
    "\n",
    "linear_reg.fit(x,y)"
   ]
  },
  {
   "cell_type": "code",
   "execution_count": 14,
   "id": "70364534",
   "metadata": {},
   "outputs": [
    {
     "data": {
      "text/html": [
       "<div>\n",
       "<style scoped>\n",
       "    .dataframe tbody tr th:only-of-type {\n",
       "        vertical-align: middle;\n",
       "    }\n",
       "\n",
       "    .dataframe tbody tr th {\n",
       "        vertical-align: top;\n",
       "    }\n",
       "\n",
       "    .dataframe thead th {\n",
       "        text-align: right;\n",
       "    }\n",
       "</style>\n",
       "<table border=\"1\" class=\"dataframe\">\n",
       "  <thead>\n",
       "    <tr style=\"text-align: right;\">\n",
       "      <th></th>\n",
       "      <th>experience</th>\n",
       "      <th>salary</th>\n",
       "    </tr>\n",
       "  </thead>\n",
       "  <tbody>\n",
       "    <tr>\n",
       "      <th>0</th>\n",
       "      <td>0.5</td>\n",
       "      <td>2500</td>\n",
       "    </tr>\n",
       "    <tr>\n",
       "      <th>1</th>\n",
       "      <td>0.0</td>\n",
       "      <td>2250</td>\n",
       "    </tr>\n",
       "    <tr>\n",
       "      <th>2</th>\n",
       "      <td>1.0</td>\n",
       "      <td>2750</td>\n",
       "    </tr>\n",
       "    <tr>\n",
       "      <th>3</th>\n",
       "      <td>5.0</td>\n",
       "      <td>8000</td>\n",
       "    </tr>\n",
       "    <tr>\n",
       "      <th>4</th>\n",
       "      <td>8.0</td>\n",
       "      <td>9000</td>\n",
       "    </tr>\n",
       "    <tr>\n",
       "      <th>5</th>\n",
       "      <td>4.0</td>\n",
       "      <td>6900</td>\n",
       "    </tr>\n",
       "    <tr>\n",
       "      <th>6</th>\n",
       "      <td>15.0</td>\n",
       "      <td>20000</td>\n",
       "    </tr>\n",
       "    <tr>\n",
       "      <th>7</th>\n",
       "      <td>7.0</td>\n",
       "      <td>8500</td>\n",
       "    </tr>\n",
       "    <tr>\n",
       "      <th>8</th>\n",
       "      <td>3.0</td>\n",
       "      <td>6000</td>\n",
       "    </tr>\n",
       "    <tr>\n",
       "      <th>9</th>\n",
       "      <td>2.0</td>\n",
       "      <td>3500</td>\n",
       "    </tr>\n",
       "    <tr>\n",
       "      <th>10</th>\n",
       "      <td>12.0</td>\n",
       "      <td>15000</td>\n",
       "    </tr>\n",
       "    <tr>\n",
       "      <th>11</th>\n",
       "      <td>10.0</td>\n",
       "      <td>13000</td>\n",
       "    </tr>\n",
       "    <tr>\n",
       "      <th>12</th>\n",
       "      <td>14.0</td>\n",
       "      <td>18000</td>\n",
       "    </tr>\n",
       "    <tr>\n",
       "      <th>13</th>\n",
       "      <td>6.0</td>\n",
       "      <td>7500</td>\n",
       "    </tr>\n",
       "  </tbody>\n",
       "</table>\n",
       "</div>"
      ],
      "text/plain": [
       "    experience  salary\n",
       "0          0.5    2500\n",
       "1          0.0    2250\n",
       "2          1.0    2750\n",
       "3          5.0    8000\n",
       "4          8.0    9000\n",
       "5          4.0    6900\n",
       "6         15.0   20000\n",
       "7          7.0    8500\n",
       "8          3.0    6000\n",
       "9          2.0    3500\n",
       "10        12.0   15000\n",
       "11        10.0   13000\n",
       "12        14.0   18000\n",
       "13         6.0    7500"
      ]
     },
     "execution_count": 14,
     "metadata": {},
     "output_type": "execute_result"
    }
   ],
   "source": [
    "df.head(14)"
   ]
  },
  {
   "cell_type": "code",
   "execution_count": 18,
   "id": "b5e97087",
   "metadata": {},
   "outputs": [
    {
     "name": "stdout",
     "output_type": "stream",
     "text": [
      "b0:  [[1663.89519747]]\n"
     ]
    }
   ],
   "source": [
    "#%% prediction\n",
    "import numpy as np\n",
    "\n",
    "b0 = linear_reg.predict([[0]])\n",
    "print(\"b0: \",b0)"
   ]
  },
  {
   "cell_type": "code",
   "execution_count": 21,
   "id": "a18cf3e5",
   "metadata": {},
   "outputs": [
    {
     "name": "stdout",
     "output_type": "stream",
     "text": [
      "b0_:  [1663.89519747]\n"
     ]
    }
   ],
   "source": [
    "b0_ = linear_reg.intercept_\n",
    "print(\"b0_: \",b0_)   # intercept the y-axis"
   ]
  },
  {
   "cell_type": "code",
   "execution_count": 22,
   "id": "679fbc1d",
   "metadata": {},
   "outputs": [
    {
     "name": "stdout",
     "output_type": "stream",
     "text": [
      "b1:  [[1138.34819698]]\n"
     ]
    }
   ],
   "source": [
    "b1 = linear_reg.coef_\n",
    "print(\"b1: \",b1)   # slope\n",
    "\n",
    "# salary = 1663 + 1138*experience "
   ]
  },
  {
   "cell_type": "code",
   "execution_count": 23,
   "id": "3f2c47e4",
   "metadata": {},
   "outputs": [
    {
     "name": "stdout",
     "output_type": "stream",
     "text": [
      "14181\n"
     ]
    }
   ],
   "source": [
    "new_salary = 1663 + 1138*11\n",
    "print(new_salary)"
   ]
  },
  {
   "cell_type": "code",
   "execution_count": 24,
   "id": "5bc80d79",
   "metadata": {},
   "outputs": [
    {
     "name": "stdout",
     "output_type": "stream",
     "text": [
      "b11:  [[14185.72536421]]\n"
     ]
    }
   ],
   "source": [
    "b11 = linear_reg.predict([[11]])\n",
    "print(\"b11: \",b11)"
   ]
  },
  {
   "cell_type": "code",
   "execution_count": 25,
   "id": "d253da0d",
   "metadata": {
    "scrolled": true
   },
   "outputs": [
    {
     "data": {
      "image/png": "[encoded data removed]",
      "text/plain": [
       "<Figure size 432x288 with 1 Axes>"
      ]
     },
     "metadata": {
      "needs_background": "light"
     },
     "output_type": "display_data"
    }
   ],
   "source": [
    "# visualize line\n",
    "array = np.array([0,1,2,3,4,5,6,7,8,9,10,11,12,13,14,15]).reshape(-1,1)  # experience\n",
    "\n",
    "\n",
    "plt.scatter(x,y)\n",
    "plt.show()"
   ]
  },
  {
   "cell_type": "code",
   "execution_count": 27,
   "id": "0d05ad2e",
   "metadata": {},
   "outputs": [
    {
     "data": {
      "text/plain": [
       "[<matplotlib.lines.Line2D at 0x19cd6673190>]"
      ]
     },
     "execution_count": 27,
     "metadata": {},
     "output_type": "execute_result"
    },
    {
     "data": {
      "image/png": "[encoded data removed]",
      "text/plain": [
       "<Figure size 432x288 with 1 Axes>"
      ]
     },
     "metadata": {
      "needs_background": "light"
     },
     "output_type": "display_data"
    }
   ],
   "source": [
    "y_head = linear_reg.predict(array)  # salary\n",
    "\n",
    "plt.plot(array, y_head,color = \"red\")"
   ]
  },
  {
   "cell_type": "code",
   "execution_count": 28,
   "id": "df5a67e3",
   "metadata": {},
   "outputs": [
    {
     "name": "stdout",
     "output_type": "stream",
     "text": [
      "b100:  [[115498.71489503]]\n"
     ]
    }
   ],
   "source": [
    "b100 = linear_reg.predict([[100]])\n",
    "print(\"b100: \",b100)"
   ]
  },
  {
   "cell_type": "code",
   "execution_count": 31,
   "id": "e2c742a4",
   "metadata": {},
   "outputs": [],
   "source": [
    "df = pd.read_csv(\"multiple-linear-regression-dataset.csv\",sep = \";\")\n",
    "\n",
    "x = df.iloc[:,[0,2]].values\n",
    "y = df.salary.values.reshape(-1,1)"
   ]
  },
  {
   "cell_type": "code",
   "execution_count": 32,
   "id": "6f054445",
   "metadata": {},
   "outputs": [
    {
     "data": {
      "text/html": [
       "<div>\n",
       "<style scoped>\n",
       "    .dataframe tbody tr th:only-of-type {\n",
       "        vertical-align: middle;\n",
       "    }\n",
       "\n",
       "    .dataframe tbody tr th {\n",
       "        vertical-align: top;\n",
       "    }\n",
       "\n",
       "    .dataframe thead th {\n",
       "        text-align: right;\n",
       "    }\n",
       "</style>\n",
       "<table border=\"1\" class=\"dataframe\">\n",
       "  <thead>\n",
       "    <tr style=\"text-align: right;\">\n",
       "      <th></th>\n",
       "      <th>experience</th>\n",
       "      <th>salary</th>\n",
       "      <th>age</th>\n",
       "    </tr>\n",
       "  </thead>\n",
       "  <tbody>\n",
       "    <tr>\n",
       "      <th>0</th>\n",
       "      <td>0.5</td>\n",
       "      <td>2500</td>\n",
       "      <td>22</td>\n",
       "    </tr>\n",
       "    <tr>\n",
       "      <th>1</th>\n",
       "      <td>0.0</td>\n",
       "      <td>2250</td>\n",
       "      <td>21</td>\n",
       "    </tr>\n",
       "    <tr>\n",
       "      <th>2</th>\n",
       "      <td>1.0</td>\n",
       "      <td>2750</td>\n",
       "      <td>23</td>\n",
       "    </tr>\n",
       "    <tr>\n",
       "      <th>3</th>\n",
       "      <td>5.0</td>\n",
       "      <td>8000</td>\n",
       "      <td>25</td>\n",
       "    </tr>\n",
       "    <tr>\n",
       "      <th>4</th>\n",
       "      <td>8.0</td>\n",
       "      <td>9000</td>\n",
       "      <td>28</td>\n",
       "    </tr>\n",
       "  </tbody>\n",
       "</table>\n",
       "</div>"
      ],
      "text/plain": [
       "   experience  salary  age\n",
       "0         0.5    2500   22\n",
       "1         0.0    2250   21\n",
       "2         1.0    2750   23\n",
       "3         5.0    8000   25\n",
       "4         8.0    9000   28"
      ]
     },
     "execution_count": 32,
     "metadata": {},
     "output_type": "execute_result"
    }
   ],
   "source": [
    "df.head()"
   ]
  },
  {
   "cell_type": "code",
   "execution_count": 34,
   "id": "c65619e1",
   "metadata": {
    "scrolled": true
   },
   "outputs": [
    {
     "name": "stdout",
     "output_type": "stream",
     "text": [
      "b0:  [10376.62747228]\n",
      "b1,b2:  [[1525.50072054 -416.72218625]]\n"
     ]
    }
   ],
   "source": [
    "# %% fitting data\n",
    "multiple_linear_regression = LinearRegression()\n",
    "multiple_linear_regression.fit(x,y)\n",
    "\n",
    "print(\"b0: \", multiple_linear_regression.intercept_)\n",
    "print(\"b1,b2: \",multiple_linear_regression.coef_)"
   ]
  },
  {
   "cell_type": "code",
   "execution_count": 35,
   "id": "7b1f22fa",
   "metadata": {},
   "outputs": [
    {
     "data": {
      "text/plain": [
       "array([[11046.35815877],\n",
       "       [ 3418.85455609]])"
      ]
     },
     "execution_count": 35,
     "metadata": {},
     "output_type": "execute_result"
    }
   ],
   "source": [
    "# predict\n",
    "multiple_linear_regression.predict(np.array([[10,35],[5,35]]))"
   ]
  },
  {
   "cell_type": "code",
   "execution_count": 38,
   "id": "87996db5",
   "metadata": {},
   "outputs": [
    {
     "data": {
      "text/html": [
       "<div>\n",
       "<style scoped>\n",
       "    .dataframe tbody tr th:only-of-type {\n",
       "        vertical-align: middle;\n",
       "    }\n",
       "\n",
       "    .dataframe tbody tr th {\n",
       "        vertical-align: top;\n",
       "    }\n",
       "\n",
       "    .dataframe thead th {\n",
       "        text-align: right;\n",
       "    }\n",
       "</style>\n",
       "<table border=\"1\" class=\"dataframe\">\n",
       "  <thead>\n",
       "    <tr style=\"text-align: right;\">\n",
       "      <th></th>\n",
       "      <th>car_price</th>\n",
       "      <th>car_max_speed</th>\n",
       "    </tr>\n",
       "  </thead>\n",
       "  <tbody>\n",
       "    <tr>\n",
       "      <th>0</th>\n",
       "      <td>60</td>\n",
       "      <td>180</td>\n",
       "    </tr>\n",
       "    <tr>\n",
       "      <th>1</th>\n",
       "      <td>70</td>\n",
       "      <td>180</td>\n",
       "    </tr>\n",
       "    <tr>\n",
       "      <th>2</th>\n",
       "      <td>80</td>\n",
       "      <td>200</td>\n",
       "    </tr>\n",
       "    <tr>\n",
       "      <th>3</th>\n",
       "      <td>100</td>\n",
       "      <td>200</td>\n",
       "    </tr>\n",
       "    <tr>\n",
       "      <th>4</th>\n",
       "      <td>120</td>\n",
       "      <td>200</td>\n",
       "    </tr>\n",
       "  </tbody>\n",
       "</table>\n",
       "</div>"
      ],
      "text/plain": [
       "   car_price  car_max_speed\n",
       "0         60            180\n",
       "1         70            180\n",
       "2         80            200\n",
       "3        100            200\n",
       "4        120            200"
      ]
     },
     "execution_count": 38,
     "metadata": {},
     "output_type": "execute_result"
    }
   ],
   "source": [
    "df = pd.read_csv(\"polynomial-regression.csv\",sep = \";\")\n",
    "\n",
    "x = df.car_max_speed.values.reshape(-1,1)\n",
    "y = df.car_price.values.reshape(-1,1)\n",
    "df.head()"
   ]
  },
  {
   "cell_type": "code",
   "execution_count": 39,
   "id": "101f65e7",
   "metadata": {},
   "outputs": [
    {
     "data": {
      "image/png": "[encoded data removed]",
      "text/plain": [
       "<Figure size 432x288 with 1 Axes>"
      ]
     },
     "metadata": {
      "needs_background": "light"
     },
     "output_type": "display_data"
    }
   ],
   "source": [
    "plt.scatter(x,y)\n",
    "plt.xlabel(\"car_max_speed\")\n",
    "plt.ylabel(\"car_price\")\n",
    "plt.show()"
   ]
  },
  {
   "cell_type": "code",
   "execution_count": 40,
   "id": "790f35ca",
   "metadata": {},
   "outputs": [
    {
     "data": {
      "image/png": "[encoded data removed]",
      "text/plain": [
       "<Figure size 432x288 with 1 Axes>"
      ]
     },
     "metadata": {
      "needs_background": "light"
     },
     "output_type": "display_data"
    },
    {
     "name": "stdout",
     "output_type": "stream",
     "text": [
      "10 million TL car speed estimation:  [[73243.64746599]]\n"
     ]
    }
   ],
   "source": [
    "# linear regression =  y = b0 + b1*x\n",
    "# multiple linear regression   y = b0 + b1*x1 + b2*x2\n",
    "\n",
    "# %% linear regression\n",
    "from sklearn.linear_model import LinearRegression\n",
    "\n",
    "lr = LinearRegression()\n",
    "\n",
    "lr.fit(x,y)\n",
    "\n",
    "#%% predict\n",
    "y_head = lr.predict(x)\n",
    "\n",
    "plt.scatter(x,y)\n",
    "plt.xlabel(\"car_max_speed\")\n",
    "plt.ylabel(\"car_price\")\n",
    "\n",
    "plt.plot(x,y_head,color=\"red\",label =\"linear\")\n",
    "plt.show()\n",
    "\n",
    "print(\"10 million TL car speed estimation: \",lr.predict([[10000]]))"
   ]
  },
  {
   "cell_type": "code",
   "execution_count": 41,
   "id": "aa3cbc3f",
   "metadata": {
    "scrolled": true
   },
   "outputs": [
    {
     "data": {
      "image/png": "[encoded data removed]",
      "text/plain": [
       "<Figure size 432x288 with 1 Axes>"
      ]
     },
     "metadata": {
      "needs_background": "light"
     },
     "output_type": "display_data"
    }
   ],
   "source": [
    "# %%\n",
    "# polynomial regression =  y = b0 + b1*x +b2*x^2 + b3*x^3 + ... + bn*x^n\n",
    "\n",
    "from sklearn.preprocessing import PolynomialFeatures\n",
    "polynomial_regression = PolynomialFeatures(degree = 2)\n",
    "\n",
    "x_polynomial = polynomial_regression.fit_transform(x)\n",
    "\n",
    "\n",
    "# %% fit\n",
    "linear_regression2 = LinearRegression()\n",
    "linear_regression2.fit(x_polynomial,y)\n",
    "\n",
    "# %%\n",
    "\n",
    "y_head2 = linear_regression2.predict(x_polynomial)\n",
    "\n",
    "plt.scatter(x,y)\n",
    "plt.xlabel(\"car_max_speed\")\n",
    "plt.ylabel(\"car_price\")\n",
    "plt.plot(x,y_head,color=\"red\",label =\"linear\")\n",
    "\n",
    "plt.plot(x,y_head2,color= \"green\",label = \"poly\")\n",
    "plt.legend()\n",
    "plt.show()"
   ]
  },
  {
   "cell_type": "code",
   "execution_count": 42,
   "id": "75a41b37",
   "metadata": {},
   "outputs": [
    {
     "name": "stdout",
     "output_type": "stream",
     "text": [
      "r_square score for linear regression:  0.4745823761330056\n",
      "r_square score for polynomial regression:  0.5540532844839927\n"
     ]
    }
   ],
   "source": [
    "#%%\n",
    "from sklearn.metrics import r2_score\n",
    "\n",
    "print(\"r_square score for linear regression: \", r2_score(y,y_head))\n",
    "\n",
    "print(\"r_square score for polynomial regression: \", r2_score(y,y_head2))"
   ]
  }
 ],
 "metadata": {
  "kernelspec": {
   "display_name": "Python 3 (ipykernel)",
   "language": "python",
   "name": "python3"
  },
  "language_info": {
   "codemirror_mode": {
    "name": "ipython",
    "version": 3
   },
   "file_extension": ".py",
   "mimetype": "text/x-python",
   "name": "python",
   "nbconvert_exporter": "python",
   "pygments_lexer": "ipython3",
   "version": "3.9.12"
  }
 },
 "nbformat": 4,
 "nbformat_minor": 5
}
